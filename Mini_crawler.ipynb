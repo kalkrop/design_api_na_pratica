{
 "cells": [
  {
   "cell_type": "code",
   "execution_count": 1,
   "id": "43610093-5519-4052-a0ff-c553f048d7ff",
   "metadata": {},
   "outputs": [],
   "source": [
    "import re\n",
    "\n",
    "import requests"
   ]
  },
  {
   "cell_type": "code",
   "execution_count": 2,
   "id": "10afe618-4028-4be0-8440-9f81fcaadb37",
   "metadata": {},
   "outputs": [
    {
     "name": "stdout",
     "output_type": "stream",
     "text": [
      "Café sem cafeína.\n"
     ]
    }
   ],
   "source": [
    "# Procura no site pelo item indicado...\n",
    "r = requests.get('http://127.0.0.1:8000/')\n",
    "order_url = re.findall(r'(http://.*?)\"', r.text)[0]\n",
    "r = requests.get(order_url)\n",
    "d = r.json()\n",
    "\n",
    "# Decide o que fazer com o item encontrado.\n",
    "if d['product'] == 'Café':\n",
    "    print('Café sem cafeína.')"
   ]
  }
 ],
 "metadata": {
  "kernelspec": {
   "display_name": "Python 3 (ipykernel)",
   "language": "python",
   "name": "python3"
  },
  "language_info": {
   "codemirror_mode": {
    "name": "ipython",
    "version": 3
   },
   "file_extension": ".py",
   "mimetype": "text/x-python",
   "name": "python",
   "nbconvert_exporter": "python",
   "pygments_lexer": "ipython3",
   "version": "3.10.7"
  }
 },
 "nbformat": 4,
 "nbformat_minor": 5
}
